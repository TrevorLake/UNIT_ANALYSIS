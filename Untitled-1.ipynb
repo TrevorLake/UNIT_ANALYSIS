{
 "cells": [
  {
   "cell_type": "code",
   "execution_count": null,
   "metadata": {},
   "outputs": [],
   "source": [
    "from itables import init_notebook_mode\n",
    "import itables.options as opt\n",
    "init_notebook_mode(all_interactive=True)\n",
    "opt.maxBytes = 1000000"
   ]
  },
  {
   "cell_type": "code",
   "execution_count": null,
   "metadata": {},
   "outputs": [],
   "source": [
    "import pandas as pd\n",
    "import seaborn as sns\n",
    "import matplotlib.pyplot as plt\n",
    "import numpy as np\n",
    "from collections import Counter"
   ]
  },
  {
   "cell_type": "code",
   "execution_count": null,
   "metadata": {},
   "outputs": [],
   "source": [
    "# Load the two CSV files\n",
    "df1 = pd.read_csv('Deal Recaps - TL.csv')\n",
    "df2 = pd.read_csv('Sold Units - TL.csv')\n",
    "df3 = pd.read_csv('Inventory - TL.csv')\n",
    "merged_df = pd.merge(df1, df2, on='Deal Number')"
   ]
  },
  {
   "cell_type": "code",
   "execution_count": null,
   "metadata": {},
   "outputs": [],
   "source": [
    "merged_df.columns"
   ]
  },
  {
   "cell_type": "code",
   "execution_count": null,
   "metadata": {},
   "outputs": [],
   "source": [
    "merged_df = merged_df.drop_duplicates(subset='Deal Number')\n",
    "merged_df = merged_df.dropna().loc[(merged_df['Age'] < 1000) & (merged_df['Age'] > -50)]\n",
    "\n",
    "def to_float_comma(value):\n",
    "    try:\n",
    "        return float(value.replace(',', ''))\n",
    "    except ValueError:\n",
    "        print(value)\n",
    "        return pd.NaT  # or you can use np.nan\n",
    "\n",
    "for column in ['Grand Total Mrgn', 'FE Price', 'FE Margin', 'F&I (BE) Margin', 'After Tax Price ']:\n",
    "    merged_df[column] = merged_df[column].apply(to_float_comma)\n"
   ]
  },
  {
   "cell_type": "code",
   "execution_count": null,
   "metadata": {},
   "outputs": [],
   "source": [
    "for index, row in merged_df.iterrows():\n",
    "    carry = 0\n",
    "    if row['Age'] > 90:\n",
    "        days_acc = row['Age'] - 90\n",
    "        interest = days_acc / 365 * 0.1\n",
    "        cost = row['FE Price'] - row['FE Margin']\n",
    "        carry = cost * interest\n",
    "\n",
    "    merged_df.loc[index, 'Carry Cost'] = carry\n",
    "    merged_df.loc[index, 'Life Margin'] = row['Grand Total Mrgn'] - carry\n",
    "\n",
    "    "
   ]
  },
  {
   "cell_type": "code",
   "execution_count": null,
   "metadata": {},
   "outputs": [],
   "source": [
    "merged_df"
   ]
  },
  {
   "cell_type": "code",
   "execution_count": null,
   "metadata": {},
   "outputs": [],
   "source": [
    "merged_df['Model'] = (merged_df['Model'].str.strip() + \" \" + merged_df['Year'].astype(str)).str.strip()\n",
    "df3['Model'] = (df3['Model'].str.strip() + \" \" + df3['Year'].astype(str)).str.strip()"
   ]
  },
  {
   "cell_type": "code",
   "execution_count": null,
   "metadata": {},
   "outputs": [],
   "source": [
    "df3"
   ]
  },
  {
   "cell_type": "code",
   "execution_count": null,
   "metadata": {},
   "outputs": [],
   "source": [
    "merged_df"
   ]
  },
  {
   "cell_type": "code",
   "execution_count": null,
   "metadata": {},
   "outputs": [],
   "source": [
    "import seaborn as sns\n",
    "import matplotlib.pyplot as plt\n",
    "\n",
    "color_map = {\n",
    "    'HONDA': 'RED',\n",
    "    'CFMOTO': 'TEAL',\n",
    "    'SSR': 'MAGENTA',\n",
    "    'ARCTIC CAT': 'CYAN',\n",
    "    'BETA': 'ORANGE',\n",
    "    'DUCATI': 'YELLOW',\n",
    "    'SHERCO': 'BLACK',\n",
    "    'Sherco': 'BLACK',\n",
    "    'OTHER': 'GREY'\n",
    "}\n",
    "\n",
    "to_replace = ['KTM', 'KAWASAKI','HARLEY', 'VOLCON', 'POLARIS', 'YAMAHA', 'TRIUMPH',\n",
    "       'INDIAN', 'HUSQVARN', 'MOTO-', 'EM ', 'ECHO', 'KAYO',\n",
    "       'RIEJU', 'SWM', 'SUZUKI', 'CAN-AM', 'GRAND ', 'ZIGGY',\n",
    "       'JEEP', 'ARGO', 'Camso-Yeti ', 'KYMCO', 'HONDA ']\n",
    "\n",
    "merged_df['Make'].replace(to_replace, 'OTHER', inplace=True)\n",
    "\n",
    "\n",
    "plt.figure(figsize=(10, 6))\n",
    "\n",
    "# Using Seaborn's scatterplot function\n",
    "sns.scatterplot(data=merged_df, x='Age', y='FE Margin', alpha=0.70, linewidth=0, s=35,\n",
    "                hue='Make', palette=color_map)\n",
    "\n",
    "# Setting title and labels\n",
    "plt.title('Scatter plot of Age vs. Grand Total Margin')\n",
    "plt.xlabel('Age')\n",
    "plt.ylabel('Grand Total Margin')\n",
    "\n",
    "\n",
    "# Set y-axis limits\n",
    "plt.ylim(-2000, 7500)\n",
    "\n",
    "plt.show()"
   ]
  },
  {
   "cell_type": "code",
   "execution_count": null,
   "metadata": {},
   "outputs": [],
   "source": [
    "# Group by 'Make', compute average 'Grand Total Mrgn' and 'Age', and count the number of entries\n",
    "sales_make = merged_df.groupby('Make').agg(\n",
    "    total_mrgn=('Grand Total Mrgn', 'mean'),\n",
    "    avg_age=('Age', 'mean'),\n",
    "    carry_cost_margin=('Life Margin', 'mean'),\n",
    "    count=('Model', 'size') \n",
    ").reset_index()\n",
    "\n",
    "sales_make['profit'] = sales_make['carry_cost_margin'] * sales_make['count']\n",
    "sales_make"
   ]
  },
  {
   "cell_type": "code",
   "execution_count": null,
   "metadata": {},
   "outputs": [],
   "source": [
    "# Group by 'Model', compute average 'Grand Total Mrgn' and 'Age', and count the number of entries\n",
    "sales_model = merged_df.groupby(['Model', 'Year']).agg(\n",
    "    make=('Make', 'first'),\n",
    "    fe_margin=('FE Margin', 'mean'),\n",
    "    total_margin=('Grand Total Mrgn', 'mean'),\n",
    "    carry_cost_margin=('Life Margin', 'mean'),\n",
    "    avg_age=('Age', 'mean'),\n",
    "    count=('Model', 'size')\n",
    ").reset_index()\n",
    "\n",
    "sales_model"
   ]
  },
  {
   "cell_type": "code",
   "execution_count": null,
   "metadata": {},
   "outputs": [],
   "source": [
    "df3 = df3.groupby(['Model']).agg(\n",
    "    make=('Make', 'first'),\n",
    "    inventory=('Model', 'size'),\n",
    "    age=('Age', 'mean')\n",
    ").reset_index()"
   ]
  },
  {
   "cell_type": "code",
   "execution_count": null,
   "metadata": {},
   "outputs": [],
   "source": [
    "df3"
   ]
  },
  {
   "cell_type": "code",
   "execution_count": null,
   "metadata": {},
   "outputs": [],
   "source": [
    "inventory = pd.merge(sales_model, df3, how='outer')\n",
    "inventory.fillna({'count': 0, 'inventory': 0}, inplace=True)\n",
    "inventory.fillna({'age': 0}, inplace=True)\n",
    "inventory['dos'] = inventory['avg_age'] / inventory['count'] * inventory['inventory']\n",
    "inventory"
   ]
  }
 ],
 "metadata": {
  "kernelspec": {
   "display_name": "base",
   "language": "python",
   "name": "python3"
  },
  "language_info": {
   "codemirror_mode": {
    "name": "ipython",
    "version": 3
   },
   "file_extension": ".py",
   "mimetype": "text/x-python",
   "name": "python",
   "nbconvert_exporter": "python",
   "pygments_lexer": "ipython3",
   "version": "3.11.5"
  }
 },
 "nbformat": 4,
 "nbformat_minor": 2
}
